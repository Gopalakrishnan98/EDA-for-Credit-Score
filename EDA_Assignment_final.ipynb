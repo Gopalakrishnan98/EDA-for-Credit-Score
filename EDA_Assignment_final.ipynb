{
 "cells": [
  {
   "cell_type": "code",
   "execution_count": 5,
   "id": "2cec7d86",
   "metadata": {},
   "outputs": [],
   "source": [
    "import numpy as np\n",
    "import pandas as pd\n",
    "import warnings\n",
    "warnings.filterwarnings(\"ignore\")\n",
    "from matplotlib import pyplot as plt\n",
    "import seaborn as sns\n",
    "import plotly\n",
    "import plotly.express as px\n",
    "import plotly.offline as py\n",
    "import plotly.graph_objs as go"
   ]
  },
  {
   "cell_type": "code",
   "execution_count": 6,
   "id": "d73aa623",
   "metadata": {},
   "outputs": [],
   "source": [
    "pd.set_option('display.max_rows', 500)\n",
    "pd.set_option('display.max_columns', 500)\n",
    "pd.set_option('display.width', 1000)\n"
   ]
  },
  {
   "cell_type": "code",
   "execution_count": 8,
   "id": "38e66d79",
   "metadata": {},
   "outputs": [],
   "source": [
    "app_data= pd.read_csv(\"application_data.csv\")"
   ]
  },
  {
   "cell_type": "code",
   "execution_count": null,
   "id": "2da495dd",
   "metadata": {},
   "outputs": [],
   "source": [
    "app_data.head()"
   ]
  },
  {
   "cell_type": "code",
   "execution_count": null,
   "id": "1613ccd8",
   "metadata": {},
   "outputs": [],
   "source": [
    "# checking shape of dataset\n",
    "app_data.shape"
   ]
  },
  {
   "cell_type": "code",
   "execution_count": null,
   "id": "d252d2df",
   "metadata": {},
   "outputs": [],
   "source": [
    "#Describing the data types of dataset\n",
    "app_data.dtypes"
   ]
  },
  {
   "cell_type": "code",
   "execution_count": null,
   "id": "b8741397",
   "metadata": {},
   "outputs": [],
   "source": [
    "#Describing the numerical columns of the datset \n",
    "app_data.describe()"
   ]
  },
  {
   "cell_type": "code",
   "execution_count": null,
   "id": "9de9111b",
   "metadata": {},
   "outputs": [],
   "source": [
    "# Checking No of Null Values in Dataset\n",
    "app_data.isnull().sum().sort_values(ascending = False)"
   ]
  },
  {
   "cell_type": "code",
   "execution_count": null,
   "id": "df0d1d6e",
   "metadata": {},
   "outputs": [],
   "source": [
    "# Checking Percentage of Null Values in Dataset\n",
    "percent_missing = app_data.isnull(). sum() * 100 / len(app_data)\n",
    "percent_missing.sort_values(ascending = False)"
   ]
  },
  {
   "cell_type": "code",
   "execution_count": null,
   "id": "836aa809",
   "metadata": {},
   "outputs": [],
   "source": [
    "df =percent_missing[percent_missing>35]\n"
   ]
  },
  {
   "cell_type": "code",
   "execution_count": null,
   "id": "8ad658b8",
   "metadata": {},
   "outputs": [],
   "source": [
    "# Listing and plotting Columns where missing values are more than 35%\n",
    "plt.figure(figsize=(15,4))\n",
    "percent_missing[percent_missing>35].plot.bar()\n",
    "plt.title('List of Columns having more than 35% missing values')\n",
    "plt.show()"
   ]
  },
  {
   "cell_type": "code",
   "execution_count": null,
   "id": "b197125a",
   "metadata": {},
   "outputs": [],
   "source": [
    "# Number of columns having percentage of null values > 35%\n",
    "len(percent_missing[percent_missing>35])"
   ]
  },
  {
   "cell_type": "code",
   "execution_count": null,
   "id": "b0b5e33d",
   "metadata": {},
   "outputs": [],
   "source": [
    "#Removing column having more tha 35% missing values\n",
    "pct_null = app_data.isnull().sum() / len(app_data)\n",
    "missing_features = pct_null[pct_null > 0.35].index\n",
    "app_data.drop(missing_features, axis=1, inplace=True)"
   ]
  },
  {
   "cell_type": "code",
   "execution_count": null,
   "id": "c911b07d",
   "metadata": {},
   "outputs": [],
   "source": [
    "app_data.shape"
   ]
  },
  {
   "cell_type": "markdown",
   "id": "c52135a8",
   "metadata": {},
   "source": [
    "#### We can see that 49 columns have been dropped \n"
   ]
  },
  {
   "cell_type": "code",
   "execution_count": null,
   "id": "d7f31ec5",
   "metadata": {},
   "outputs": [],
   "source": [
    "# Checking the columns having less null percentage\n",
    "\n",
    "(app_data.isnull().sum()/len(app_data)*100).sort_values(ascending=False)"
   ]
  },
  {
   "cell_type": "markdown",
   "id": "f8dd5946",
   "metadata": {},
   "source": [
    "### Seprating Categorical and numerical columns"
   ]
  },
  {
   "cell_type": "code",
   "execution_count": null,
   "id": "069963fa",
   "metadata": {},
   "outputs": [],
   "source": [
    "category_list = list(set(app_data.columns) - set(app_data.describe().columns))\n",
    "category_list"
   ]
  },
  {
   "cell_type": "markdown",
   "id": "aa587272",
   "metadata": {},
   "source": [
    "### Checking and Imputing  null vales in categorical data"
   ]
  },
  {
   "cell_type": "code",
   "execution_count": null,
   "id": "16401f33",
   "metadata": {},
   "outputs": [],
   "source": [
    "# Checking for CODE_GENDER column\n",
    "app_data.CODE_GENDER.isnull().sum()"
   ]
  },
  {
   "cell_type": "code",
   "execution_count": null,
   "id": "704b0fb1",
   "metadata": {},
   "outputs": [],
   "source": [
    "# Checking for NAME_EDUCATION_TYPE column\n",
    "app_data.NAME_EDUCATION_TYPE.isnull().sum()"
   ]
  },
  {
   "cell_type": "code",
   "execution_count": null,
   "id": "c0732564",
   "metadata": {},
   "outputs": [],
   "source": [
    "# Checking for NAME_CONTRACT_TYPE column\n",
    "app_data.NAME_CONTRACT_TYPE.isnull().sum()"
   ]
  },
  {
   "cell_type": "code",
   "execution_count": null,
   "id": "2955d190",
   "metadata": {},
   "outputs": [],
   "source": [
    "# Checking for FLAG_OWN_CAR column\n",
    "app_data.FLAG_OWN_CAR.isnull().sum()"
   ]
  },
  {
   "cell_type": "code",
   "execution_count": null,
   "id": "d6dd9c66",
   "metadata": {},
   "outputs": [],
   "source": [
    "# Checking for NAME_INCOME_TYPE column\n",
    "app_data.NAME_INCOME_TYPE.isnull().sum()\n"
   ]
  },
  {
   "cell_type": "code",
   "execution_count": null,
   "id": "706e6afc",
   "metadata": {},
   "outputs": [],
   "source": [
    "# Checking for FLAG_OWN_REALTY column\n",
    "app_data.FLAG_OWN_REALTY.isnull().sum()"
   ]
  },
  {
   "cell_type": "code",
   "execution_count": null,
   "id": "61be06ca",
   "metadata": {},
   "outputs": [],
   "source": [
    "# Checking for NAME_FAMILY_STATUS column\n",
    "app_data.NAME_FAMILY_STATUS.isnull().sum()"
   ]
  },
  {
   "cell_type": "code",
   "execution_count": null,
   "id": "e30755f5",
   "metadata": {},
   "outputs": [],
   "source": [
    "# Checking for NAME_HOUSING_TYPE column\n",
    "app_data.NAME_HOUSING_TYPE.isnull().sum()"
   ]
  },
  {
   "cell_type": "code",
   "execution_count": null,
   "id": "f30e79fe",
   "metadata": {},
   "outputs": [],
   "source": [
    "# Checking for WEEKDAY_APPR_PROCESS_START column\n",
    "app_data.WEEKDAY_APPR_PROCESS_START.isnull().sum()"
   ]
  },
  {
   "cell_type": "code",
   "execution_count": null,
   "id": "4fa2b080",
   "metadata": {},
   "outputs": [],
   "source": [
    "# Checking for ORGANIZATION_TYPE column\n",
    "app_data.ORGANIZATION_TYPE.isnull().sum()"
   ]
  },
  {
   "cell_type": "markdown",
   "id": "ac12de7d",
   "metadata": {},
   "source": [
    "#### Lets Take OCCUPATION_TYPE"
   ]
  },
  {
   "cell_type": "markdown",
   "id": "ffb708fd",
   "metadata": {},
   "source": [
    "Here if we impute with mode value the data will be skew data set or highly favour Laborers occupation type which may not be the case. So we will leave it as it is."
   ]
  },
  {
   "cell_type": "code",
   "execution_count": null,
   "id": "f8f47e50",
   "metadata": {},
   "outputs": [],
   "source": [
    "app_data.OCCUPATION_TYPE.isnull().sum()"
   ]
  },
  {
   "cell_type": "code",
   "execution_count": null,
   "id": "dc7f7ce6",
   "metadata": {},
   "outputs": [],
   "source": [
    "app_data.OCCUPATION_TYPE.value_counts()"
   ]
  },
  {
   "cell_type": "code",
   "execution_count": null,
   "id": "75e23bac",
   "metadata": {},
   "outputs": [],
   "source": [
    "app_data.OCCUPATION_TYPE.mode()"
   ]
  },
  {
   "cell_type": "markdown",
   "id": "ffbfdc09",
   "metadata": {},
   "source": [
    "#### Instead we can create a seprate category for missing values like Unknown"
   ]
  },
  {
   "cell_type": "code",
   "execution_count": null,
   "id": "7b059c88",
   "metadata": {},
   "outputs": [],
   "source": [
    "app_data.OCCUPATION_TYPE = np.where(app_data.OCCUPATION_TYPE.isnull(),\"Unknown\",app_data.OCCUPATION_TYPE)"
   ]
  },
  {
   "cell_type": "code",
   "execution_count": null,
   "id": "060af97f",
   "metadata": {},
   "outputs": [],
   "source": [
    "#Rechecking for null values\n",
    "app_data.OCCUPATION_TYPE.isnull().sum()"
   ]
  },
  {
   "cell_type": "markdown",
   "id": "4311b977",
   "metadata": {},
   "source": [
    "#### Imputing Null values in NAME_TYPE_SUITE column"
   ]
  },
  {
   "cell_type": "code",
   "execution_count": null,
   "id": "5290ae15",
   "metadata": {},
   "outputs": [],
   "source": [
    "app_data.NAME_TYPE_SUITE.value_counts()"
   ]
  },
  {
   "cell_type": "code",
   "execution_count": null,
   "id": "c94c580b",
   "metadata": {},
   "outputs": [],
   "source": [
    "app_data.NAME_TYPE_SUITE.mode()"
   ]
  },
  {
   "cell_type": "code",
   "execution_count": null,
   "id": "86bdf97a",
   "metadata": {},
   "outputs": [],
   "source": [
    "app_data.NAME_TYPE_SUITE.isnull().sum()"
   ]
  },
  {
   "cell_type": "code",
   "execution_count": null,
   "id": "28eb4021",
   "metadata": {},
   "outputs": [],
   "source": [
    "# Imputing null with Mode value \n",
    "app_data.NAME_TYPE_SUITE = app_data.NAME_TYPE_SUITE.fillna(app_data.NAME_TYPE_SUITE.mode()[0])"
   ]
  },
  {
   "cell_type": "code",
   "execution_count": null,
   "id": "a161f057",
   "metadata": {},
   "outputs": [],
   "source": [
    "# Checking for null value in \n",
    "app_data.NAME_TYPE_SUITE.isnull().sum()"
   ]
  },
  {
   "cell_type": "markdown",
   "id": "3c3dbd12",
   "metadata": {},
   "source": [
    "### Checking and Imputing null values in Numerical columns"
   ]
  },
  {
   "cell_type": "code",
   "execution_count": null,
   "id": "af5d17cb",
   "metadata": {},
   "outputs": [],
   "source": [
    "numerical_col_list = list(set(app_data.describe().columns))"
   ]
  },
  {
   "cell_type": "code",
   "execution_count": null,
   "id": "8ae84ef4",
   "metadata": {},
   "outputs": [],
   "source": [
    "numerical_col_list"
   ]
  },
  {
   "cell_type": "code",
   "execution_count": null,
   "id": "f0761987",
   "metadata": {},
   "outputs": [],
   "source": [
    "#list of numerical columns that have missing or NA values \n",
    "for item in numerical_col_list : \n",
    "    count  = app_data[item].isnull().sum()\n",
    "    if count != 0 : \n",
    "        print(item)\n",
    "        sns.distplot(app_data[item])\n",
    "        plt.axvline(app_data[item].mean(), color=\"green\")\n",
    "        plt.axvline(app_data[item].median(), color=\"red\")\n",
    "        plt.show()\n",
    "        print(\"Mean:\",app_data[item].mean())\n",
    "        print(\"Median:\",app_data[item].median())\n",
    "        print(\"DIfference:\",(app_data[item].mean() - app_data[item].median()))"
   ]
  },
  {
   "cell_type": "markdown",
   "id": "33f750fc",
   "metadata": {},
   "source": [
    "#### Imputing null values in EXT_SOURCE_3 "
   ]
  },
  {
   "cell_type": "code",
   "execution_count": null,
   "id": "a622d26f",
   "metadata": {},
   "outputs": [],
   "source": [
    "app_data['EXT_SOURCE_3'].describe()"
   ]
  },
  {
   "cell_type": "code",
   "execution_count": null,
   "id": "4312fe8b",
   "metadata": {},
   "outputs": [],
   "source": [
    "app_data['EXT_SOURCE_3'].isnull().sum()"
   ]
  },
  {
   "cell_type": "code",
   "execution_count": null,
   "id": "6aa485d2",
   "metadata": {},
   "outputs": [],
   "source": [
    "app_data['EXT_SOURCE_3'] = app_data['EXT_SOURCE_3'].fillna(app_data['EXT_SOURCE_3'].median())"
   ]
  },
  {
   "cell_type": "code",
   "execution_count": null,
   "id": "58f0e21f",
   "metadata": {},
   "outputs": [],
   "source": [
    "app_data['EXT_SOURCE_3'].isnull().sum()"
   ]
  },
  {
   "cell_type": "code",
   "execution_count": null,
   "id": "bdd779c5",
   "metadata": {},
   "outputs": [],
   "source": [
    "app_data['EXT_SOURCE_3'].describe()"
   ]
  },
  {
   "cell_type": "markdown",
   "id": "57aad158",
   "metadata": {},
   "source": [
    "#### Imputing null values in AMT_REQ_CREDIT_BUREAU_YEAR "
   ]
  },
  {
   "cell_type": "code",
   "execution_count": null,
   "id": "cf56ecfd",
   "metadata": {
    "scrolled": true
   },
   "outputs": [],
   "source": [
    "app_data['AMT_REQ_CREDIT_BUREAU_YEAR'].value_counts()"
   ]
  },
  {
   "cell_type": "code",
   "execution_count": null,
   "id": "3f1ffab4",
   "metadata": {},
   "outputs": [],
   "source": [
    "app_data['AMT_REQ_CREDIT_BUREAU_YEAR'].isnull().sum()"
   ]
  },
  {
   "cell_type": "code",
   "execution_count": null,
   "id": "03d05c7f",
   "metadata": {},
   "outputs": [],
   "source": [
    "# filling null values with mode \n",
    "app_data['AMT_REQ_CREDIT_BUREAU_YEAR'] = app_data['AMT_REQ_CREDIT_BUREAU_YEAR'].fillna(app_data['AMT_REQ_CREDIT_BUREAU_YEAR'].mode()[0])"
   ]
  },
  {
   "cell_type": "code",
   "execution_count": null,
   "id": "03e250e7",
   "metadata": {},
   "outputs": [],
   "source": [
    "app_data['AMT_REQ_CREDIT_BUREAU_YEAR'].isnull().sum()"
   ]
  },
  {
   "cell_type": "code",
   "execution_count": null,
   "id": "56d75844",
   "metadata": {},
   "outputs": [],
   "source": [
    "app_data['AMT_REQ_CREDIT_BUREAU_YEAR'].value_counts()"
   ]
  },
  {
   "cell_type": "markdown",
   "id": "7c304df7",
   "metadata": {},
   "source": [
    "#### Imputing null values in AMT_REQ_CREDIT_BUREAU_QRT"
   ]
  },
  {
   "cell_type": "code",
   "execution_count": null,
   "id": "f9d803e3",
   "metadata": {},
   "outputs": [],
   "source": [
    "app_data['AMT_REQ_CREDIT_BUREAU_QRT'].value_counts()"
   ]
  },
  {
   "cell_type": "code",
   "execution_count": null,
   "id": "0a89d651",
   "metadata": {},
   "outputs": [],
   "source": [
    "app_data['AMT_REQ_CREDIT_BUREAU_QRT'].isnull().sum()"
   ]
  },
  {
   "cell_type": "code",
   "execution_count": null,
   "id": "d2d45b0b",
   "metadata": {},
   "outputs": [],
   "source": [
    "# filling null values with mode \n",
    "app_data['AMT_REQ_CREDIT_BUREAU_QRT'] = app_data['AMT_REQ_CREDIT_BUREAU_QRT'].fillna(app_data['AMT_REQ_CREDIT_BUREAU_QRT'].mode()[0])"
   ]
  },
  {
   "cell_type": "code",
   "execution_count": null,
   "id": "0e5ce536",
   "metadata": {},
   "outputs": [],
   "source": [
    "app_data['AMT_REQ_CREDIT_BUREAU_QRT'].isnull().sum()"
   ]
  },
  {
   "cell_type": "code",
   "execution_count": null,
   "id": "e9ee1504",
   "metadata": {},
   "outputs": [],
   "source": [
    "app_data['AMT_REQ_CREDIT_BUREAU_QRT'].value_counts()"
   ]
  },
  {
   "cell_type": "markdown",
   "id": "267c972a",
   "metadata": {},
   "source": [
    "#### Imputing null values in AMT_REQ_CREDIT_BUREAU_MON"
   ]
  },
  {
   "cell_type": "code",
   "execution_count": null,
   "id": "30c57b82",
   "metadata": {},
   "outputs": [],
   "source": [
    "print(\"Checking values of AMT_REQ_CREDIT_BUREAU_MON\")\n",
    "print(app_data['AMT_REQ_CREDIT_BUREAU_MON'].value_counts(),end=\"\\n\")\n",
    "print(\"Checking for null values\")\n",
    "print(app_data['AMT_REQ_CREDIT_BUREAU_MON'].isnull().sum(),end=\"\\n\")\n",
    "\n",
    "# filling null values with mode \n",
    "app_data['AMT_REQ_CREDIT_BUREAU_MON'] = app_data['AMT_REQ_CREDIT_BUREAU_MON'].fillna(app_data['AMT_REQ_CREDIT_BUREAU_MON'].mode()[0])\n",
    "print(\"Cross checking for null values\")\n",
    "print(app_data['AMT_REQ_CREDIT_BUREAU_MON'].isnull().sum())\n",
    "print(\"Re-Checking values of AMT_REQ_CREDIT_BUREAU_MON\")\n",
    "print(app_data['AMT_REQ_CREDIT_BUREAU_MON'].value_counts())"
   ]
  },
  {
   "cell_type": "markdown",
   "id": "7a1538f3",
   "metadata": {},
   "source": [
    "#### Imputing null values in AMT_REQ_CREDIT_BUREAU_WEEK "
   ]
  },
  {
   "cell_type": "code",
   "execution_count": null,
   "id": "99a9772a",
   "metadata": {},
   "outputs": [],
   "source": [
    "print(\"Checking values of AMT_REQ_CREDIT_BUREAU_WEEK\")\n",
    "print(app_data['AMT_REQ_CREDIT_BUREAU_WEEK'].value_counts(),end=\"\\n\")\n",
    "print(\"Checking for null values\")\n",
    "print(app_data['AMT_REQ_CREDIT_BUREAU_WEEK'].isnull().sum(),end=\"\\n\")\n",
    "\n",
    "# filling null values with mode \n",
    "app_data['AMT_REQ_CREDIT_BUREAU_WEEK'] = app_data['AMT_REQ_CREDIT_BUREAU_WEEK'].fillna(app_data['AMT_REQ_CREDIT_BUREAU_WEEK'].mode()[0])\n",
    "print(\"Cross checking for null values\")\n",
    "print(app_data['AMT_REQ_CREDIT_BUREAU_WEEK'].isnull().sum())\n",
    "print(\"Re-Checking values of AMT_REQ_CREDIT_BUREAU_WEEK\")\n",
    "print(app_data['AMT_REQ_CREDIT_BUREAU_WEEK'].value_counts())"
   ]
  },
  {
   "cell_type": "markdown",
   "id": "9e000823",
   "metadata": {},
   "source": [
    "#### Imputing null values in AMT_REQ_CREDIT_BUREAU_DAY "
   ]
  },
  {
   "cell_type": "code",
   "execution_count": null,
   "id": "35eb8875",
   "metadata": {},
   "outputs": [],
   "source": [
    "print(\"Checking values of AMT_REQ_CREDIT_BUREAU_DAY\")\n",
    "print(app_data['AMT_REQ_CREDIT_BUREAU_DAY'].value_counts(),end=\"\\n\")\n",
    "print(\"Checking for null values\")\n",
    "print(app_data['AMT_REQ_CREDIT_BUREAU_DAY'].isnull().sum(),end=\"\\n\")\n",
    "\n",
    "# filling null values with mode \n",
    "app_data['AMT_REQ_CREDIT_BUREAU_DAY'] = app_data['AMT_REQ_CREDIT_BUREAU_DAY'].fillna(app_data['AMT_REQ_CREDIT_BUREAU_DAY'].mode()[0])\n",
    "print(\"Cross checking for null values\")\n",
    "print(app_data['AMT_REQ_CREDIT_BUREAU_DAY'].isnull().sum())\n",
    "print(\"Re-Checking values of AMT_REQ_CREDIT_BUREAU_DAY\")\n",
    "print(app_data['AMT_REQ_CREDIT_BUREAU_DAY'].value_counts())"
   ]
  },
  {
   "cell_type": "markdown",
   "id": "6094469b",
   "metadata": {},
   "source": [
    "#### Imputing null values in AMT_REQ_CREDIT_BUREAU_HOUR "
   ]
  },
  {
   "cell_type": "code",
   "execution_count": null,
   "id": "0a050439",
   "metadata": {},
   "outputs": [],
   "source": [
    "print(\"Checking values of AMT_REQ_CREDIT_BUREAU_HOUR\")\n",
    "print(app_data['AMT_REQ_CREDIT_BUREAU_HOUR'].value_counts(),end=\"\\n\")\n",
    "print(\"Checking for null values\")\n",
    "print(app_data['AMT_REQ_CREDIT_BUREAU_HOUR'].isnull().sum(),end=\"\\n\")\n",
    "\n",
    "# filling null values with mode \n",
    "app_data['AMT_REQ_CREDIT_BUREAU_HOUR'] = app_data['AMT_REQ_CREDIT_BUREAU_HOUR'].fillna(app_data['AMT_REQ_CREDIT_BUREAU_HOUR'].mode()[0])\n",
    "print(\"Cross checking for null values\")\n",
    "print(app_data['AMT_REQ_CREDIT_BUREAU_HOUR'].isnull().sum())\n",
    "print(\"Re-Checking values of AMT_REQ_CREDIT_BUREAU_HOUR\")\n",
    "print(app_data['AMT_REQ_CREDIT_BUREAU_HOUR'].value_counts())"
   ]
  },
  {
   "cell_type": "markdown",
   "id": "11ecce19",
   "metadata": {},
   "source": [
    "#### Imputing null values in OBS_30_CNT_SOCIAL_CIRCLE"
   ]
  },
  {
   "cell_type": "code",
   "execution_count": null,
   "id": "2b32cb70",
   "metadata": {},
   "outputs": [],
   "source": [
    "print(\"Checking values of OBS_30_CNT_SOCIAL_CIRCLE\")\n",
    "print(app_data['OBS_30_CNT_SOCIAL_CIRCLE'].value_counts(),end=\"\\n\")\n",
    "print(\"Checking for null values\")\n",
    "print(app_data['OBS_30_CNT_SOCIAL_CIRCLE'].isnull().sum(),end=\"\\n\")\n",
    "\n",
    "# filling null values with median \n",
    "app_data['OBS_30_CNT_SOCIAL_CIRCLE'] = app_data['OBS_30_CNT_SOCIAL_CIRCLE'].fillna(app_data['OBS_30_CNT_SOCIAL_CIRCLE'].median())\n",
    "print(\"Cross checking for null values\")\n",
    "print(app_data['OBS_30_CNT_SOCIAL_CIRCLE'].isnull().sum())\n",
    "print(\"Re-Checking values of OBS_30_CNT_SOCIAL_CIRCLE\")\n",
    "print(app_data['OBS_30_CNT_SOCIAL_CIRCLE'].value_counts())"
   ]
  },
  {
   "cell_type": "markdown",
   "id": "356d8591",
   "metadata": {},
   "source": [
    "#### Imputing null values in DEF_30_CNT_SOCIAL_CIRCLE"
   ]
  },
  {
   "cell_type": "code",
   "execution_count": null,
   "id": "5a79a5aa",
   "metadata": {},
   "outputs": [],
   "source": [
    "print(\"Checking values of DEF_30_CNT_SOCIAL_CIRCLE\")\n",
    "print(app_data['DEF_30_CNT_SOCIAL_CIRCLE'].value_counts(),end=\"\\n\")\n",
    "print(\"Checking for null values\")\n",
    "print(app_data['DEF_30_CNT_SOCIAL_CIRCLE'].isnull().sum(),end=\"\\n\")\n",
    "\n",
    "# filling null values with median \n",
    "app_data['DEF_30_CNT_SOCIAL_CIRCLE'] = app_data['DEF_30_CNT_SOCIAL_CIRCLE'].fillna(app_data['DEF_30_CNT_SOCIAL_CIRCLE'].median())\n",
    "print(\"Cross checking for null values\")\n",
    "print(app_data['DEF_30_CNT_SOCIAL_CIRCLE'].isnull().sum())\n",
    "print(\"Re-Checking values of DEF_30_CNT_SOCIAL_CIRCLE\")\n",
    "print(app_data['DEF_30_CNT_SOCIAL_CIRCLE'].value_counts())"
   ]
  },
  {
   "cell_type": "markdown",
   "id": "4bd8a1e1",
   "metadata": {},
   "source": [
    "#### Imputing null values in OBS_60_CNT_SOCIAL_CIRCLE"
   ]
  },
  {
   "cell_type": "code",
   "execution_count": null,
   "id": "61c812ec",
   "metadata": {},
   "outputs": [],
   "source": [
    "print(\"Checking values of OBS_60_CNT_SOCIAL_CIRCLE\")\n",
    "print(app_data['OBS_60_CNT_SOCIAL_CIRCLE'].value_counts(),end=\"\\n\")\n",
    "print(\"Checking for null values\")\n",
    "print(app_data['OBS_60_CNT_SOCIAL_CIRCLE'].isnull().sum(),end=\"\\n\")\n",
    "\n",
    "# filling null values with median \n",
    "app_data['OBS_60_CNT_SOCIAL_CIRCLE'] = app_data['OBS_60_CNT_SOCIAL_CIRCLE'].fillna(app_data['OBS_60_CNT_SOCIAL_CIRCLE'].median())\n",
    "print(\"Cross checking for null values\")\n",
    "print(app_data['OBS_60_CNT_SOCIAL_CIRCLE'].isnull().sum())\n",
    "print(\"Re-Checking values of OBS_60_CNT_SOCIAL_CIRCLE\")\n",
    "print(app_data['OBS_60_CNT_SOCIAL_CIRCLE'].value_counts())"
   ]
  },
  {
   "cell_type": "code",
   "execution_count": null,
   "id": "d77bcbc6",
   "metadata": {},
   "outputs": [],
   "source": [
    "#### Imputing null values in DEF_60_CNT_SOCIAL_CIRCLE"
   ]
  },
  {
   "cell_type": "code",
   "execution_count": null,
   "id": "2d036456",
   "metadata": {},
   "outputs": [],
   "source": [
    "print(\"Checking values of DEF_60_CNT_SOCIAL_CIRCLE\")\n",
    "print(app_data['DEF_60_CNT_SOCIAL_CIRCLE'].value_counts(),end=\"\\n\")\n",
    "print(\"Checking for null values\")\n",
    "print(app_data['DEF_60_CNT_SOCIAL_CIRCLE'].isnull().sum(),end=\"\\n\")\n",
    "\n",
    "# filling null values with median \n",
    "app_data['DEF_60_CNT_SOCIAL_CIRCLE'] = app_data['DEF_60_CNT_SOCIAL_CIRCLE'].fillna(app_data['DEF_60_CNT_SOCIAL_CIRCLE'].median())\n",
    "print(\"Cross checking for null values\")\n",
    "print(app_data['DEF_60_CNT_SOCIAL_CIRCLE'].isnull().sum())\n",
    "print(\"Re-Checking values of DEF_60_CNT_SOCIAL_CIRCLE\")\n",
    "print(app_data['DEF_60_CNT_SOCIAL_CIRCLE'].value_counts())"
   ]
  },
  {
   "cell_type": "markdown",
   "id": "72da9a8f",
   "metadata": {},
   "source": [
    "#### Imputing null values in EXT_SOURCE_2"
   ]
  },
  {
   "cell_type": "code",
   "execution_count": null,
   "id": "65a09373",
   "metadata": {},
   "outputs": [],
   "source": [
    "print(\"Checking values of EXT_SOURCE_2\")\n",
    "print(app_data['EXT_SOURCE_2'].value_counts())\n",
    "print(\"Checking for null values\")\n",
    "print(app_data['EXT_SOURCE_2'].isnull().sum())\n",
    "\n",
    "# filling null values with median \n",
    "app_data['EXT_SOURCE_2'] = app_data['EXT_SOURCE_2'].fillna(app_data['EXT_SOURCE_2'].median())\n",
    "print(\"Cross checking for null values\")\n",
    "print(app_data['EXT_SOURCE_2'].isnull().sum())\n",
    "print(\"Re-Checking values of EXT_SOURCE_2\")\n",
    "print(app_data['EXT_SOURCE_2'].value_counts())"
   ]
  },
  {
   "cell_type": "markdown",
   "id": "2bed7a1d",
   "metadata": {},
   "source": [
    "#### Imputing null values in AMT_GOODS_PRICE"
   ]
  },
  {
   "cell_type": "code",
   "execution_count": null,
   "id": "96e17746",
   "metadata": {},
   "outputs": [],
   "source": [
    "print(\"Checking values of AMT_GOODS_PRICE\")\n",
    "print(app_data['AMT_GOODS_PRICE'].describe(),end=\"\\n\")\n",
    "print(\"Checking for null values\")\n",
    "print(app_data['AMT_GOODS_PRICE'].isnull().sum(),end=\"\\n\")\n",
    "\n",
    "# filling null values with median \n",
    "app_data['AMT_GOODS_PRICE'] = app_data['AMT_GOODS_PRICE'].fillna(app_data['AMT_GOODS_PRICE'].median())\n",
    "print(\"Cross checking for null values\")\n",
    "print(app_data['AMT_GOODS_PRICE'].isnull().sum())\n",
    "print(\"Re-Checking values of AMT_GOODS_PRICE\")\n",
    "print(app_data['AMT_GOODS_PRICE'].describe())"
   ]
  },
  {
   "cell_type": "markdown",
   "id": "cdc4987d",
   "metadata": {},
   "source": [
    "#### Imputing null values in AMT_ANNUITY"
   ]
  },
  {
   "cell_type": "code",
   "execution_count": null,
   "id": "fec6a3b0",
   "metadata": {},
   "outputs": [],
   "source": [
    "print(\"Checking values of AMT_ANNUITY\")\n",
    "print(app_data['AMT_ANNUITY'].describe(),end=\"\\n\")\n",
    "print(\"Checking for null values\")\n",
    "print(app_data['AMT_ANNUITY'].isnull().sum(),end=\"\\n\")\n",
    "\n",
    "# filling null values with median \n",
    "app_data['AMT_ANNUITY'] = app_data['AMT_ANNUITY'].fillna(app_data['AMT_ANNUITY'].median())\n",
    "print(\"Cross checking for null values\")\n",
    "print(app_data['AMT_ANNUITY'].isnull().sum())\n",
    "print(\"Re-Checking values of AMT_ANNUITY\")\n",
    "print(app_data['AMT_ANNUITY'].describe())"
   ]
  },
  {
   "cell_type": "markdown",
   "id": "48fdb94f",
   "metadata": {},
   "source": [
    "#### Imputing null values in CNT_FAM_MEMBERS"
   ]
  },
  {
   "cell_type": "code",
   "execution_count": null,
   "id": "8e095060",
   "metadata": {},
   "outputs": [],
   "source": [
    "print(\"Checking values of CNT_FAM_MEMBERS\")\n",
    "print(app_data['CNT_FAM_MEMBERS'].describe(),end=\"\\n\")\n",
    "print(\"Checking for null values\")\n",
    "print(app_data['CNT_FAM_MEMBERS'].isnull().sum(),end=\"\\n\")\n",
    "\n",
    "# filling null values with median \n",
    "app_data['CNT_FAM_MEMBERS'] = app_data['CNT_FAM_MEMBERS'].fillna(app_data['CNT_FAM_MEMBERS'].median())\n",
    "print(\"Cross checking for null values\")\n",
    "print(app_data['CNT_FAM_MEMBERS'].isnull().sum())\n",
    "print(\"Re-Checking values of CNT_FAM_MEMBERS\")\n",
    "print(app_data['CNT_FAM_MEMBERS'].describe())"
   ]
  },
  {
   "cell_type": "markdown",
   "id": "916d86b9",
   "metadata": {},
   "source": [
    "#### Imputing null values in DAYS_LAST_PHONE_CHANGE"
   ]
  },
  {
   "cell_type": "code",
   "execution_count": null,
   "id": "7b0a979c",
   "metadata": {},
   "outputs": [],
   "source": [
    "print(\"Checking values of DAYS_LAST_PHONE_CHANGE\")\n",
    "print(app_data['DAYS_LAST_PHONE_CHANGE'].describe(),end=\"\\n\")\n",
    "print(\"Checking for null values\")\n",
    "print(app_data['DAYS_LAST_PHONE_CHANGE'].isnull().sum(),end=\"\\n\")\n",
    "\n",
    "# filling null values with median \n",
    "app_data['DAYS_LAST_PHONE_CHANGE'] = app_data['DAYS_LAST_PHONE_CHANGE'].fillna(app_data['DAYS_LAST_PHONE_CHANGE'].median())\n",
    "print(\"Cross checking for null values\")\n",
    "print(app_data['DAYS_LAST_PHONE_CHANGE'].isnull().sum())\n",
    "print(\"Re-Checking values of DAYS_LAST_PHONE_CHANGE\")\n",
    "print(app_data['DAYS_LAST_PHONE_CHANGE'].describe())"
   ]
  },
  {
   "cell_type": "markdown",
   "id": "0f9b35aa",
   "metadata": {},
   "source": [
    "#### Re-Checking null values in dataset"
   ]
  },
  {
   "cell_type": "code",
   "execution_count": null,
   "id": "d87130e7",
   "metadata": {},
   "outputs": [],
   "source": [
    "app_data.isnull().sum()"
   ]
  },
  {
   "cell_type": "markdown",
   "id": "eba114cb",
   "metadata": {},
   "source": [
    "## Binning Values"
   ]
  },
  {
   "cell_type": "markdown",
   "id": "2f212f0d",
   "metadata": {},
   "source": [
    "#### If we look at the columns that denote date of some form, we see that the dates in most of them are in the form of days and are negative. So we shall we converting all dates to positve using the absolute method. Also we will need the dates in 365 days format so we also use floor divison to convert them."
   ]
  },
  {
   "cell_type": "code",
   "execution_count": null,
   "id": "db11d20a",
   "metadata": {},
   "outputs": [],
   "source": [
    "# Listing all columns with date format\n",
    "days_list = ['DAYS_LAST_PHONE_CHANGE', 'DAYS_EMPLOYED','DAYS_BIRTH','DAYS_REGISTRATION','DAYS_ID_PUBLISH']"
   ]
  },
  {
   "cell_type": "code",
   "execution_count": null,
   "id": "04c3e440",
   "metadata": {},
   "outputs": [],
   "source": [
    "for i in days_list :\n",
    "    app_data[i] = app_data[i].abs()\n",
    "    app_data[i] = app_data[i].fillna(app_data[item].median())\n",
    "    app_data[i] = app_data[i] // 365"
   ]
  },
  {
   "cell_type": "markdown",
   "id": "7ac1e6fc",
   "metadata": {},
   "source": [
    "#### Binning Day_Births"
   ]
  },
  {
   "cell_type": "code",
   "execution_count": null,
   "id": "94622063",
   "metadata": {},
   "outputs": [],
   "source": [
    "app_data['DAYS_BIRTH'].unique()"
   ]
  },
  {
   "cell_type": "code",
   "execution_count": null,
   "id": "00c6ed55",
   "metadata": {},
   "outputs": [],
   "source": [
    "#Binning 'DAYS_BIRTH'\n",
    "app_data['DAYS_BIRTH_BINS']=pd.cut(app_data['DAYS_BIRTH'], bins=[19,25,35,60,100], labels=['Very_Young','Young', 'Middle_Age', 'Senior_Citizen'])"
   ]
  },
  {
   "cell_type": "code",
   "execution_count": null,
   "id": "ba2d10e7",
   "metadata": {},
   "outputs": [],
   "source": [
    "app_data['DAYS_BIRTH_BINS'].value_counts()"
   ]
  },
  {
   "cell_type": "code",
   "execution_count": null,
   "id": "7075ae2b",
   "metadata": {},
   "outputs": [],
   "source": [
    "# Binning AMT_INCOME_TOTAL column\n",
    "app_data['AMT_INCOME_BIN'] = pd.qcut(app_data.AMT_INCOME_TOTAL, q=[0, 0.2, 0.5, 0.8, 0.95, 1], labels=['VERY_LOW', 'LOW', \"MEDIUM\", 'HIGH', 'VERY_HIGH'])\n",
    "app_data['AMT_INCOME_BIN'].value_counts()"
   ]
  },
  {
   "cell_type": "code",
   "execution_count": null,
   "id": "efdb6510",
   "metadata": {},
   "outputs": [],
   "source": [
    "#Binning AMT_CREDIT column\n",
    "app_data['AMT_CREDIT_BIN'] = pd.qcut(app_data.AMT_CREDIT, q=[0, 0.2, 0.5, 0.8, 0.95, 1], labels=['VERY_LOW', 'LOW', \"MEDIUM\", 'HIGH', 'VERY_HIGH'])\n",
    "app_data['AMT_CREDIT_BIN'].value_counts()"
   ]
  },
  {
   "cell_type": "code",
   "execution_count": null,
   "id": "d003e003",
   "metadata": {},
   "outputs": [],
   "source": [
    "app_data.isnull().sum()"
   ]
  },
  {
   "cell_type": "markdown",
   "id": "301885dc",
   "metadata": {},
   "source": [
    "#### All null values except OCCUPATION_TYPE have been imputed , Dataset is clean."
   ]
  },
  {
   "cell_type": "markdown",
   "id": "3c344196",
   "metadata": {},
   "source": [
    "# Data Analysis"
   ]
  },
  {
   "cell_type": "markdown",
   "id": "38692d8e",
   "metadata": {},
   "source": [
    "### Checking for data imbalance"
   ]
  },
  {
   "cell_type": "code",
   "execution_count": null,
   "id": "cc7f744f",
   "metadata": {},
   "outputs": [],
   "source": [
    "imbalance_data = app_data[\"TARGET\"].value_counts(normalize=True)*100\n",
    "imbalance_data"
   ]
  },
  {
   "cell_type": "code",
   "execution_count": null,
   "id": "b465aeb6",
   "metadata": {},
   "outputs": [],
   "source": [
    "fig = px.pie(app_data[\"TARGET\"], values=imbalance_data, names=imbalance_data.index.to_list(), title='Imbalance Target Distribution', hole=.4)\n",
    "fig.show()"
   ]
  },
  {
   "cell_type": "markdown",
   "id": "0c6237d7",
   "metadata": {},
   "source": [
    "#### As we can see there high data imbalance between defaulters(1) and other cases(0)"
   ]
  },
  {
   "cell_type": "markdown",
   "id": "d4926b70",
   "metadata": {},
   "source": [
    "### Dividing the dataset into two different datasets based upon 'Target' value."
   ]
  },
  {
   "cell_type": "code",
   "execution_count": null,
   "id": "883815d3",
   "metadata": {},
   "outputs": [],
   "source": [
    "target_0 = app_data.loc[app_data.TARGET == 0]\n",
    "target_1 = app_data.loc[app_data.TARGET == 1]"
   ]
  },
  {
   "cell_type": "markdown",
   "id": "bf34ed38",
   "metadata": {},
   "source": [
    "### Univariate Analysis of Categorical Columns"
   ]
  },
  {
   "cell_type": "markdown",
   "id": "67d2b342",
   "metadata": {},
   "source": [
    "#### Income Source"
   ]
  },
  {
   "cell_type": "code",
   "execution_count": null,
   "id": "c6d8d99a",
   "metadata": {},
   "outputs": [],
   "source": [
    "# Income sources of Loan- Non Payment Difficulties\n",
    "coldata = target_0[\"NAME_INCOME_TYPE\"].value_counts(normalize=True)*100\n",
    "df = pd.DataFrame({'labels': coldata.index,'values': coldata.values})\n",
    "fig = px.bar(df, x='labels', y='values',title='Income sources of Loan- Non Payment Difficulties')\n",
    "fig.show()\n",
    "\n"
   ]
  },
  {
   "cell_type": "code",
   "execution_count": null,
   "id": "8a1c946d",
   "metadata": {
    "scrolled": false
   },
   "outputs": [],
   "source": [
    "# Income sources of Loan- Non Payment Difficulties\n",
    "coldata = target_1[\"NAME_INCOME_TYPE\"].value_counts(normalize=True)*100\n",
    "df = pd.DataFrame({'labels': coldata.index,'values': coldata.values})\n",
    "fig = px.bar(df, x='labels', y='values',title='Income sources of Loan Payment Difficulties')\n",
    "fig.show()"
   ]
  },
  {
   "cell_type": "markdown",
   "id": "bd8fb8a1",
   "metadata": {},
   "source": [
    "We can see that there is a decrease in the percentage of Payment Difficulties who are pensioners, State servant and Commercial associate and an increase in the percentage of Payment Difficulties who are Working class when compared the percentages of both Payment Difficulties and non-Payment Difficulties."
   ]
  },
  {
   "cell_type": "markdown",
   "id": "7fae257e",
   "metadata": {},
   "source": [
    "#### Income Range"
   ]
  },
  {
   "cell_type": "code",
   "execution_count": null,
   "id": "8c2a9819",
   "metadata": {},
   "outputs": [],
   "source": [
    "target_0.info()"
   ]
  },
  {
   "cell_type": "code",
   "execution_count": null,
   "id": "0a5fe694",
   "metadata": {},
   "outputs": [],
   "source": [
    "# Income range of Loan- Non Payment Difficulties\n",
    "coldata = target_0[\"AMT_INCOME_BIN\"].value_counts(normalize=True)*100\n",
    "df = pd.DataFrame({'labels': coldata.index,'values': coldata.values})\n",
    "fig = px.bar(df, x='labels', y='values',title='Income range of Loan- Non Payment Difficulties')\n",
    "fig.show()"
   ]
  },
  {
   "cell_type": "code",
   "execution_count": null,
   "id": "a2de2fd5",
   "metadata": {},
   "outputs": [],
   "source": [
    "# Income sources of Loan Payment Difficulties\n",
    "coldata = target_1[\"AMT_INCOME_BIN\"].value_counts(normalize=True)*100\n",
    "df = pd.DataFrame({'labels': coldata.index,'values': coldata.values})\n",
    "fig = px.bar(df, x='labels', y='values',title='Income range of Loan Payment Difficulties')\n",
    "fig.show()"
   ]
  },
  {
   "cell_type": "markdown",
   "id": "e661effc",
   "metadata": {},
   "source": [
    "In both cases people with Academic Degree do not face difficulties in repaying loan.Whereas people who have done Secondary schooling have faced more difficulties while repaying the loan. \n",
    "Higher education category has increased in loan non payment difficulties comparatively."
   ]
  },
  {
   "cell_type": "markdown",
   "id": "ae4b87cc",
   "metadata": {},
   "source": [
    "#### Gender Distribution\n"
   ]
  },
  {
   "cell_type": "code",
   "execution_count": null,
   "id": "d9faab91",
   "metadata": {},
   "outputs": [],
   "source": [
    "# Income sources of Loan- Non Payment Difficulties\n",
    "coldata = target_0[\"CODE_GENDER\"].value_counts(normalize=True)*100\n",
    "df = pd.DataFrame({'labels': coldata.index,'values': coldata.values})\n",
    "fig = px.bar(df, x='labels', y='values',title='Gender Distibution of Loan- Non Payment Difficulties')\n",
    "fig.show()"
   ]
  },
  {
   "cell_type": "code",
   "execution_count": null,
   "id": "04b2006f",
   "metadata": {},
   "outputs": [],
   "source": [
    "# Gender Distibution of Loan Payment Difficulties\n",
    "coldata = target_1[\"CODE_GENDER\"].value_counts(normalize=True)*100\n",
    "df = pd.DataFrame({'labels': coldata.index,'values': coldata.values})\n",
    "fig = px.bar(df, x='labels', y='values',title=\"Gender Distibution of Loan Payment Difficulties\")\n",
    "fig.show()"
   ]
  },
  {
   "cell_type": "markdown",
   "id": "3aa88510",
   "metadata": {},
   "source": [
    "In both cases we can see that people who are accommodated House/Apartment face more difficulties in loan re payment.\n",
    "In case of loan payment difficulties there is a slight increase in people living with parents."
   ]
  },
  {
   "cell_type": "markdown",
   "id": "40d1e938",
   "metadata": {},
   "source": [
    "#### Education Distribution"
   ]
  },
  {
   "cell_type": "code",
   "execution_count": null,
   "id": "43c6267e",
   "metadata": {},
   "outputs": [],
   "source": [
    "# Education Distibution of Loan- Non Payment Difficulties\n",
    "coldata = target_0[\"NAME_EDUCATION_TYPE\"].value_counts(normalize=True)*100\n",
    "df = pd.DataFrame({'labels': coldata.index,'values': coldata.values})\n",
    "fig = px.bar(df, x='labels', y='values',title='Education Distibution of Loan- Non Payment Difficulties')\n",
    "fig.show()"
   ]
  },
  {
   "cell_type": "code",
   "execution_count": null,
   "id": "2676135f",
   "metadata": {},
   "outputs": [],
   "source": [
    "# Education Distibution of Loan Payment Difficulties\n",
    "coldata = target_1[\"NAME_EDUCATION_TYPE\"].value_counts(normalize=True)*100\n",
    "df = pd.DataFrame({'labels': coldata.index,'values': coldata.values})\n",
    "fig = px.bar(df, x='labels', y='values',title='Education Distibution of Loan Payment Difficulties')\n",
    "fig.show()"
   ]
  },
  {
   "cell_type": "markdown",
   "id": "1bc5cb90",
   "metadata": {},
   "source": [
    "In both cases people with Academic Degree do not face diffculties in repaying loan.Whereas people who have done Secondary schooling have faced more difficulties while repaying the loan. Higher education category has increased in loan non payment diffuclties comparitively."
   ]
  },
  {
   "cell_type": "markdown",
   "id": "da50bcfe",
   "metadata": {},
   "source": [
    "#### Housing Distribution"
   ]
  },
  {
   "cell_type": "code",
   "execution_count": null,
   "id": "8cc8af81",
   "metadata": {},
   "outputs": [],
   "source": [
    "# Housing Distribution of Loan- Non Payment Difficulties\n",
    "coldata = target_0[\"NAME_HOUSING_TYPE\"].value_counts(normalize=True)*100\n",
    "df = pd.DataFrame({'labels': coldata.index,'values': coldata.values})\n",
    "fig = px.bar(df, x='labels', y='values',title='Housing Distribution of Loan- Non Payment Difficulties')\n",
    "fig.show()"
   ]
  },
  {
   "cell_type": "code",
   "execution_count": null,
   "id": "f174a819",
   "metadata": {},
   "outputs": [],
   "source": [
    "# Housing Distribution of Loan Payment Difficulties\n",
    "coldata = target_1[\"NAME_HOUSING_TYPE\"].value_counts(normalize=True)*100\n",
    "df = pd.DataFrame({'labels': coldata.index,'values': coldata.values})\n",
    "fig = px.bar(df, x='labels', y='values',title='Housing Distribution of Loan Payment Difficulties')\n",
    "fig.show()"
   ]
  },
  {
   "cell_type": "markdown",
   "id": "09480885",
   "metadata": {},
   "source": [
    "In both cases we can see that people who are accommodated House/Apartment face more more diifculties in loan re payment.In case of loan payment diffculties there is a slight increase in people living with parents."
   ]
  },
  {
   "cell_type": "markdown",
   "id": "e1108a0c",
   "metadata": {},
   "source": [
    "#### Age Distribution"
   ]
  },
  {
   "cell_type": "code",
   "execution_count": null,
   "id": "e4cf15b9",
   "metadata": {},
   "outputs": [],
   "source": [
    "# Age Distribution of Loan- Non Payment Difficulties\n",
    "coldata = target_0[\"DAYS_BIRTH_BINS\"].value_counts(normalize=True)*100\n",
    "df = pd.DataFrame({'labels': coldata.index,'values': coldata.values})\n",
    "fig = px.bar(df, x='labels', y='values',title='Age Distribution of Loan- Non Payment Difficulties')\n",
    "fig.show()"
   ]
  },
  {
   "cell_type": "code",
   "execution_count": null,
   "id": "52822a15",
   "metadata": {},
   "outputs": [],
   "source": [
    "# Age Distribution of Loan Payment Difficulties\n",
    "coldata = target_1[\"DAYS_BIRTH_BINS\"].value_counts(normalize=True)*100\n",
    "df = pd.DataFrame({'labels': coldata.index,'values': coldata.values})\n",
    "fig = px.bar(df, x='labels', y='values',title='Age Distribution of Loan Payment Difficulties')\n",
    "fig.show()"
   ]
  },
  {
   "cell_type": "markdown",
   "id": "de2cc5b9",
   "metadata": {},
   "source": [
    "In both categories we can observe that Middle aged people are having more difficulties. In Loan payment segment Youngsters percentage is comparitively more than in Loan Non payment.Senior citizens are also not able to re pay the loan amount monthly."
   ]
  },
  {
   "cell_type": "markdown",
   "id": "200d4126",
   "metadata": {},
   "source": [
    "### Univariate Analysis of Numerical Columns"
   ]
  },
  {
   "cell_type": "markdown",
   "id": "18f5fda3",
   "metadata": {},
   "source": [
    "#### Credit Amount"
   ]
  },
  {
   "cell_type": "code",
   "execution_count": null,
   "id": "5bfbdb87",
   "metadata": {},
   "outputs": [],
   "source": [
    "px.histogram(target_0, x=\"AMT_CREDIT\",  marginal=\"box\",nbins=50,title=\"Plotting of AMT_CREDIT for Loan Non-Payment difficulties\") "
   ]
  },
  {
   "cell_type": "code",
   "execution_count": null,
   "id": "f319fa73",
   "metadata": {},
   "outputs": [],
   "source": [
    "px.histogram(target_1, x=\"AMT_CREDIT\",  marginal=\"box\",nbins=50,title=\"Plotting of AMT_CREDIT for Loan Payment difficulties\") "
   ]
  },
  {
   "cell_type": "markdown",
   "id": "6e1ce110",
   "metadata": {},
   "source": [
    "We can see that in both target 0 and target 1 majority of the difficulties have amt_credit in range 200k and 600k.In target 0 we can see few outliers above the range of 3 million whereas in target 1 there are very few ouliters above the 3 million region."
   ]
  },
  {
   "cell_type": "markdown",
   "id": "2960ad54",
   "metadata": {},
   "source": [
    "#### Annuity Distribution"
   ]
  },
  {
   "cell_type": "code",
   "execution_count": null,
   "id": "860f47b8",
   "metadata": {},
   "outputs": [],
   "source": [
    "px.histogram(target_0, x=\"AMT_ANNUITY\",  marginal=\"box\",nbins=50,title=\"Plotting of AMT_ANNUITY for Loan Non- Payment difficulties\") "
   ]
  },
  {
   "cell_type": "code",
   "execution_count": null,
   "id": "c51760bd",
   "metadata": {},
   "outputs": [],
   "source": [
    "px.histogram(target_1, x=\"AMT_ANNUITY\",  marginal=\"box\",nbins=50,title=\"Plotting of AMT_ANNUITY for Loan Payment difficulties\") "
   ]
  },
  {
   "cell_type": "markdown",
   "id": "b1ba1897",
   "metadata": {},
   "source": [
    "In non payment difficulties the majority of annuity amt is in the 15k to 35k range with median around 25k and in payment diificulty the annuity amt is in the range of 17k to 32k with 25k median. Using outliers we can see a lot of people with non payment(target_0) are having high annual annuity."
   ]
  },
  {
   "cell_type": "markdown",
   "id": "69e62db9",
   "metadata": {},
   "source": [
    "#### Family Members Distribution"
   ]
  },
  {
   "cell_type": "code",
   "execution_count": null,
   "id": "61856524",
   "metadata": {},
   "outputs": [],
   "source": [
    "px.histogram(target_0, x=\"CNT_FAM_MEMBERS\",  marginal=\"box\",nbins=25,title=\"Plotting of CNT_FAM_MEMBERS for Loan Non- Payment difficulties\") "
   ]
  },
  {
   "cell_type": "code",
   "execution_count": null,
   "id": "25bc5460",
   "metadata": {},
   "outputs": [],
   "source": [
    "px.histogram(target_1, x=\"CNT_FAM_MEMBERS\",  marginal=\"box\",nbins=25,title=\"Plotting of CNT_FAM_MEMBERS for Loan Payment difficulties\") "
   ]
  },
  {
   "cell_type": "markdown",
   "id": "89607678",
   "metadata": {},
   "source": [
    "We can see that in both scenario people with less family members have more difficulty in repying loans.in target 0 case majority of the family are less than 2. In target 1 case with median at 2 members in a family with majority in the range of 1 to 3 members.  "
   ]
  },
  {
   "cell_type": "markdown",
   "id": "92e1f65f",
   "metadata": {},
   "source": [
    "## Bivariate Analysis"
   ]
  },
  {
   "cell_type": "markdown",
   "id": "64e0ebad",
   "metadata": {},
   "source": [
    "#### Income range vs Family Status"
   ]
  },
  {
   "cell_type": "code",
   "execution_count": null,
   "id": "fbe67405",
   "metadata": {},
   "outputs": [],
   "source": [
    "px.histogram(target_0, x=\"AMT_CREDIT\" ,color='NAME_FAMILY_STATUS', marginal=\"box\",nbins=50,title=\"Plotting of Credit Amount vs Family Status for Loan Non- Payment difficulties\") "
   ]
  },
  {
   "cell_type": "code",
   "execution_count": null,
   "id": "36b268a2",
   "metadata": {},
   "outputs": [],
   "source": [
    "px.histogram(target_1, x=\"AMT_CREDIT\" ,color='NAME_FAMILY_STATUS', marginal=\"box\",nbins=40,title=\"Plotting of Credit Amount vs Family Status for Loan Payment difficulties\") "
   ]
  },
  {
   "cell_type": "markdown",
   "id": "8b6925ce",
   "metadata": {},
   "source": [
    "In both cases we can observe that married people have the highest credit amount.In Loan non payment difficulties case  single  have an increased count as compared to Loan payemnt difficulties."
   ]
  },
  {
   "cell_type": "markdown",
   "id": "425963e3",
   "metadata": {},
   "source": [
    "#### Income Range vs Credit Amount"
   ]
  },
  {
   "cell_type": "code",
   "execution_count": null,
   "id": "ed9f9965",
   "metadata": {},
   "outputs": [],
   "source": [
    "px.histogram(target_0, x=\"AMT_CREDIT\" ,color='AMT_INCOME_BIN', marginal=\"box\",nbins=50,title=\"Plotting of Credit Amount vs Income Range for Loan Non- Payment difficulties\") "
   ]
  },
  {
   "cell_type": "code",
   "execution_count": null,
   "id": "d6827476",
   "metadata": {},
   "outputs": [],
   "source": [
    "px.histogram(target_1, x=\"AMT_CREDIT\" ,color='AMT_INCOME_BIN', marginal=\"box\",nbins=40,title=\"Plotting of Credit Amount vs Income Range for Loan payment difficulties\") "
   ]
  },
  {
   "cell_type": "markdown",
   "id": "1f6624de",
   "metadata": {},
   "source": [
    "In both scenario we can see that Medium , low , and very low income range have high credits. In case of loan non repayment medium income range has higher credits comparing the median and q3 value in both scenarios."
   ]
  },
  {
   "cell_type": "markdown",
   "id": "6b08daee",
   "metadata": {},
   "source": [
    "#### Gender vs NAME_INCOME_TYPE"
   ]
  },
  {
   "cell_type": "code",
   "execution_count": null,
   "id": "3b5d5eb8",
   "metadata": {},
   "outputs": [],
   "source": [
    "px.histogram(target_0, x=\"NAME_INCOME_TYPE\" ,color='CODE_GENDER', marginal=\"box\",nbins=25,title=\"Plotting of Gender vs NAME_INCOME_TYPE for Loan Non- Payment difficulties\") "
   ]
  },
  {
   "cell_type": "code",
   "execution_count": null,
   "id": "79997b4d",
   "metadata": {},
   "outputs": [],
   "source": [
    "px.histogram(target_1, x=\"NAME_INCOME_TYPE\" ,color='CODE_GENDER', marginal=\"box\",nbins=25,title=\"Plotting of Gender vs NAME_INCOME_TYPE for Income Range difficulties\") "
   ]
  },
  {
   "cell_type": "markdown",
   "id": "01f0da60",
   "metadata": {},
   "source": [
    "We can see that in both scenario the applicants are of the Working income type for both genders .In target_0 segment we can observe higher no of Females of Comercial Associate and Pensonier income type as compared to target_1."
   ]
  },
  {
   "cell_type": "markdown",
   "id": "0c8df442",
   "metadata": {},
   "source": [
    "### Multi-Variate Analysis"
   ]
  },
  {
   "cell_type": "markdown",
   "id": "f91a67d8",
   "metadata": {},
   "source": [
    "####  NAME_INCOME_TYP vs AMT_CREDIT"
   ]
  },
  {
   "cell_type": "code",
   "execution_count": null,
   "id": "120f4e70",
   "metadata": {},
   "outputs": [],
   "source": [
    "# 'Credit amount vs Income Type vs Family Status for Loan Non- Payment Difficulties\n",
    "fig = px.box(target_0,\n",
    "             x=\"NAME_INCOME_TYPE\",\n",
    "             y=\"AMT_CREDIT\",\n",
    "             color = \"NAME_FAMILY_STATUS\",\n",
    "             title=\"Credit amount vs Income Type vs Family Status - Non Payment Difficulties for Loan\")\n",
    "fig.show()"
   ]
  },
  {
   "cell_type": "code",
   "execution_count": null,
   "id": "2fa22797",
   "metadata": {},
   "outputs": [],
   "source": [
    "# Credit amount vs Income Type vs Family Status for Loan Payment Difficulties\n",
    "fig = px.box(target_1,\n",
    "             x=\"NAME_INCOME_TYPE\",\n",
    "             y=\"AMT_CREDIT\",\n",
    "             color = \"NAME_FAMILY_STATUS\",\n",
    "             title=\"Credit amount vs Income Type vs Family Status - Payment Difficulties for Loan\")\n",
    "fig.show()"
   ]
  },
  {
   "cell_type": "markdown",
   "id": "e69a3e4e",
   "metadata": {},
   "source": [
    "We can observe that the median credit amt granted is the highest in the married family status in both the scenario of loan non payment and loan payment.\n",
    "Single family status has lowest median credit amt in loan payment difficulties and similarly in loan non payment single family status has the lowest median in most income type."
   ]
  },
  {
   "cell_type": "markdown",
   "id": "d278f481",
   "metadata": {},
   "source": [
    "### Data Correlation"
   ]
  },
  {
   "cell_type": "code",
   "execution_count": null,
   "id": "f6041ddc",
   "metadata": {},
   "outputs": [],
   "source": [
    "target_0.corr()\n",
    "\n",
    "target_0.corr().abs()\n",
    "\n",
    "target_0.corr().abs().unstack()\n",
    "\n",
    "target_0.corr().abs().unstack().sort_values(kind = 'quicksort')\n",
    "\n",
    "corr_0 = target_0.corr().abs().unstack().sort_values(kind = 'quicksort').dropna()\n",
    "\n",
    "corr_1 = target_1.corr().abs().unstack().sort_values(kind = 'quicksort').dropna()\n",
    "\n"
   ]
  },
  {
   "cell_type": "code",
   "execution_count": null,
   "id": "3eae5092",
   "metadata": {},
   "outputs": [],
   "source": [
    "corr_0\n"
   ]
  },
  {
   "cell_type": "code",
   "execution_count": null,
   "id": "ff19a0ec",
   "metadata": {},
   "outputs": [],
   "source": [
    "corr_1"
   ]
  },
  {
   "cell_type": "code",
   "execution_count": null,
   "id": "4d7a4a10",
   "metadata": {
    "scrolled": true
   },
   "outputs": [],
   "source": [
    "corr_0 = corr_0[corr_0 != 1]\n",
    "\n",
    "corr_1 = corr_1[corr_1 != 1]\n",
    "\n",
    "corr_0.sort_values(ascending = False).head(10)\n",
    "\n"
   ]
  },
  {
   "cell_type": "code",
   "execution_count": null,
   "id": "c7c50864",
   "metadata": {},
   "outputs": [],
   "source": [
    "corr_1.sort_values(ascending = False).head(10)"
   ]
  },
  {
   "cell_type": "code",
   "execution_count": null,
   "id": "ce8bb9e3",
   "metadata": {},
   "outputs": [],
   "source": [
    "plt.figure(figsize=[20,8])\n",
    "sns.pairplot(target_0[['AMT_GOODS_PRICE','DAYS_EMPLOYED','AMT_CREDIT','CNT_FAM_MEMBERS','REGION_RATING_CLIENT']])\n",
    "plt.show()   "
   ]
  },
  {
   "cell_type": "code",
   "execution_count": null,
   "id": "6a3794ef",
   "metadata": {},
   "outputs": [],
   "source": [
    "plt.figure(figsize=[20,8])\n",
    "sns.pairplot(target_1[['AMT_GOODS_PRICE','DAYS_EMPLOYED','AMT_CREDIT','CNT_FAM_MEMBERS','REGION_RATING_CLIENT']])\n",
    "plt.show()   "
   ]
  },
  {
   "cell_type": "markdown",
   "id": "a2d01f05",
   "metadata": {},
   "source": [
    "## Previous Application dataset"
   ]
  },
  {
   "cell_type": "code",
   "execution_count": null,
   "id": "d1d62871",
   "metadata": {},
   "outputs": [],
   "source": [
    "prev_data=pd.read_csv('previous_application.csv')"
   ]
  },
  {
   "cell_type": "code",
   "execution_count": null,
   "id": "c4def1c8",
   "metadata": {},
   "outputs": [],
   "source": [
    "prev_data.head()"
   ]
  },
  {
   "cell_type": "code",
   "execution_count": null,
   "id": "748f473d",
   "metadata": {},
   "outputs": [],
   "source": [
    "prev_data=prev_data.replace('XNA', np.NaN)\n",
    "prev_data=prev_data.replace('XAP', np.NaN)"
   ]
  },
  {
   "cell_type": "markdown",
   "id": "7e5bc0c1",
   "metadata": {},
   "source": [
    "### Univariate Analysis on previous application data"
   ]
  },
  {
   "cell_type": "markdown",
   "id": "c09e4591",
   "metadata": {},
   "source": [
    "#### Contract Status"
   ]
  },
  {
   "cell_type": "code",
   "execution_count": null,
   "id": "cce620fc",
   "metadata": {},
   "outputs": [],
   "source": [
    "coldata = prev_data[\"NAME_CONTRACT_STATUS\"].value_counts(normalize=True)*100\n",
    "df = pd.DataFrame({'labels': coldata.index,'values': coldata.values})\n",
    "fig = px.bar(df, x='labels', y='values',title='Contract status of previous application')\n",
    "fig.show()"
   ]
  },
  {
   "cell_type": "markdown",
   "id": "40c012a1",
   "metadata": {},
   "source": [
    "We can see that more that 50% of previous application has been approved and less than 20% have been cancelled.Very less no of loan application have been unused. "
   ]
  },
  {
   "cell_type": "markdown",
   "id": "85cb6b59",
   "metadata": {},
   "source": [
    "#### Payment Status"
   ]
  },
  {
   "cell_type": "code",
   "execution_count": null,
   "id": "aa3e6921",
   "metadata": {},
   "outputs": [],
   "source": [
    "coldata = prev_data[\"NAME_PAYMENT_TYPE\"].value_counts(normalize=True)*100\n",
    "df = pd.DataFrame({'labels': coldata.index,'values': coldata.values})\n",
    "fig = px.bar(df, x='labels', y='values',title='Payment status of previous application')\n",
    "fig.show()"
   ]
  },
  {
   "cell_type": "markdown",
   "id": "b4084400",
   "metadata": {},
   "source": [
    "We can observe that  majority of the application have been Cash through bank."
   ]
  },
  {
   "cell_type": "markdown",
   "id": "a1d15dab",
   "metadata": {},
   "source": [
    "#### Types of Goods"
   ]
  },
  {
   "cell_type": "code",
   "execution_count": null,
   "id": "0ad074a6",
   "metadata": {},
   "outputs": [],
   "source": [
    "coldata = prev_data[\"NAME_GOODS_CATEGORY\"].value_counts(normalize=True)*100\n",
    "df = pd.DataFrame({'labels': coldata.index,'values': coldata.values})\n",
    "fig = px.bar(df, x='labels', y='values',title='Contract status of previous application')\n",
    "fig.show()"
   ]
  },
  {
   "cell_type": "markdown",
   "id": "f341f450",
   "metadata": {},
   "source": [
    "We can observe that loan for Mobile is the highest where as for loan for House Construction is the lowest. "
   ]
  },
  {
   "cell_type": "markdown",
   "id": "020a76f9",
   "metadata": {},
   "source": [
    "### Merging both the data set"
   ]
  },
  {
   "cell_type": "code",
   "execution_count": null,
   "id": "c48647a2",
   "metadata": {},
   "outputs": [],
   "source": [
    "df=pd.merge( app_data,prev_data, how='inner', on=\"SK_ID_CURR\")\n",
    "df.head()"
   ]
  },
  {
   "cell_type": "code",
   "execution_count": null,
   "id": "52ea3d10",
   "metadata": {},
   "outputs": [],
   "source": [
    "df.shape"
   ]
  },
  {
   "cell_type": "code",
   "execution_count": null,
   "id": "98233486",
   "metadata": {},
   "outputs": [],
   "source": [
    "table = pd.pivot_table(df, values='TARGET', index=['NAME_CONTRACT_TYPE_y'],columns=['NAME_CONTRACT_STATUS'], aggfunc=np.mean)"
   ]
  },
  {
   "cell_type": "code",
   "execution_count": null,
   "id": "f006e095",
   "metadata": {},
   "outputs": [],
   "source": [
    "table"
   ]
  },
  {
   "cell_type": "code",
   "execution_count": null,
   "id": "c088134a",
   "metadata": {},
   "outputs": [],
   "source": [
    "fig = px.bar(table, barmode = 'group', title = \"Comparsion of Loan Approval Status for Cash,Consumer and Revolving Loans\")\n",
    "fig.show()"
   ]
  },
  {
   "cell_type": "markdown",
   "id": "0bec7922",
   "metadata": {},
   "source": [
    "1.We can see that Refused loan application is the highest for Cash loan.\n",
    "2.For consumer loan type has the highest apllication refused.\n",
    "3.For Revolving loans there are no unused offers and majority laon application have been refused."
   ]
  },
  {
   "cell_type": "code",
   "execution_count": null,
   "id": "eab3ae04",
   "metadata": {},
   "outputs": [],
   "source": []
  },
  {
   "cell_type": "code",
   "execution_count": null,
   "id": "9e528c3a",
   "metadata": {},
   "outputs": [],
   "source": []
  }
 ],
 "metadata": {
  "kernelspec": {
   "display_name": "Python 3 (ipykernel)",
   "language": "python",
   "name": "python3"
  },
  "language_info": {
   "codemirror_mode": {
    "name": "ipython",
    "version": 3
   },
   "file_extension": ".py",
   "mimetype": "text/x-python",
   "name": "python",
   "nbconvert_exporter": "python",
   "pygments_lexer": "ipython3",
   "version": "3.9.7"
  }
 },
 "nbformat": 4,
 "nbformat_minor": 5
}
